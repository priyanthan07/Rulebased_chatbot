{
  "nbformat": 4,
  "nbformat_minor": 0,
  "metadata": {
    "colab": {
      "provenance": []
    },
    "kernelspec": {
      "name": "python3",
      "display_name": "Python 3"
    },
    "language_info": {
      "name": "python"
    }
  },
  "cells": [
    {
      "cell_type": "code",
      "execution_count": 1,
      "metadata": {
        "id": "I4rBx5x4rpor"
      },
      "outputs": [],
      "source": [
        "import re\n",
        "import random"
      ]
    },
    {
      "cell_type": "code",
      "source": [
        "class chatbot:\n",
        "  # potential Negative Responses\n",
        "  negative_responses = (\"no\",\"nope\",\"nah\",\"not a chance\",\"sorry\")\n",
        "\n",
        "  # Exit conversation keywords\n",
        "  exit_commands = (\"quit\",\"pause\",\"exit\",\"goodbye\",\"bye\",\"later\")\n",
        "\n",
        "  # random started questions\n",
        "  random_questions = (\"why are you here?\",\n",
        "                      \"are there many human like you?\",\n",
        "                      \"what do you consume for sustance?\",\n",
        "                      \"Is there intelligent life on this planet?\",\n",
        "                      \"Does earth have a leader?\",\n",
        "                      \"what planets have you visited?\",\n",
        "                      \"what technology do you have on this planet?\"\n",
        "                      )\n",
        "\n",
        "  def __init__(self):\n",
        "    self.alienbabble = {'describe_planet_intent ': r'.*\\s*your planet.*',\n",
        "                        'answer_why_intent' : r'why\\sare.* ' ,\n",
        "                        'about_earth' : r'.*\\s*earth.*',\n",
        "                        'about_session' : r'.*\\s*session.*'\n",
        "                        }\n",
        "\n",
        "  def greet(self):\n",
        "    self.name = input(\"what is your name?\\n\")\n",
        "    will_help = input(\n",
        "        f\"Hi {self.name}, I am chatbot. will you help me learn about your planet?\\n\")\n",
        "    if will_help in self.negative_responses:\n",
        "      print(\"ok, have a nice earthday!\")\n",
        "    return self.chat()\n",
        "\n",
        "  def make_exit(self,reply):\n",
        "      for command in self.exit_commands:\n",
        "        if reply == command:\n",
        "          print(\"okay, have a nice earth day!\")\n",
        "          return True\n",
        "\n",
        "  def chat(self):\n",
        "    reply = input(random.choice(self.random_questions)).lower()\n",
        "    while not self.make_exit(reply):\n",
        "      reply = input(self.match_reply(reply))\n",
        "\n",
        "  def match_reply(self, reply):\n",
        "    for key, value in self.alienbabble.items():\n",
        "      intent = key.strip()\n",
        "      regex_pattern = value\n",
        "      found_match = re.match(regex_pattern, reply)\n",
        "      if found_match and intent == 'describe_planet_intent':\n",
        "        return self.describe_planet_intent()\n",
        "      elif found_match and intent == 'answer_why_intent':\n",
        "        return self.answer_why_intent()\n",
        "      elif found_match and intent == 'about_earth':\n",
        "        return self.about_earth()\n",
        "      elif found_match and intent == 'about_session':\n",
        "        return self.about_session()\n",
        "    if not found_match:\n",
        "      return self.no_match_intent()\n",
        "\n",
        "  def describe_planet_intent(self):\n",
        "    responses =(\"My planet is a utopia of diverse organism and species.\\n\",\n",
        "                \"I am from Opidipus, the capital of the Wayward galaxies.\\n\")\n",
        "    return random.choice(responses)\n",
        "\n",
        "  def answer_why_intent(self):\n",
        "    responses =(\"I come in peace.\\n\", \"I am here to collect data on your planet and its inhabitants\\n\",\n",
        "                \"I heard the coffee is good.\\n\")\n",
        "    return random.choice(responses)\n",
        "\n",
        "  def about_earth(self):\n",
        "    responses =(\"Earth is the third planet in the solar syatem.\\n\",\n",
        "              \"this is the most suitable place for live according to the current data.\\n\")\n",
        "    return random.choice(responses)\n",
        "  def about_session(self):\n",
        "    responses =(\"session is on 14th Aug 2022.\\n\",\n",
        "              \"session was cool.\\n\")\n",
        "    return random.choice(responses)\n",
        "\n",
        "  def no_match_intent(self):\n",
        "    responses =(\"please tell me more.\\n\",\n",
        "                \"tell me more!.\\n\",\"why do you say that?\",\n",
        "                \"I see, can you elaborate?\\n\",\n",
        "                \"Interesting. Can you tell me more?\\n\", \"I see. how do you think?\\n\")\n",
        "    return random.choice(responses)\n",
        "\n",
        "\n",
        "AlienBot = chatbot()\n",
        "AlienBot.greet()\n"
      ],
      "metadata": {
        "colab": {
          "base_uri": "https://localhost:8080/"
        },
        "id": "27L_QsfFBQcv",
        "outputId": "a81efb56-aaf0-4a5f-c53c-1b0dfb7002d4"
      },
      "execution_count": 3,
      "outputs": [
        {
          "output_type": "stream",
          "name": "stdout",
          "text": [
            "what is your name?\n",
            "kaatu poochi\n",
            "Hi kaatu poochi, I am chatbot. will you help me learn about your planet?\n",
            "yes\n",
            "Does earth have a leader?no\n",
            "please tell me more.\n",
            "you tell me about your planet\n",
            "My planet is a utopia of diverse organism and species.\n",
            "do you know about earth\n",
            "Earth is the third planet in the solar syatem.\n",
            "more\n",
            "I see. how do you think?\n",
            "quit\n",
            "okay, have a nice earth day!\n"
          ]
        }
      ]
    }
  ]
}